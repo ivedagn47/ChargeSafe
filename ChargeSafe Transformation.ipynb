{
 "cells": [
  {
   "cell_type": "code",
   "execution_count": 0,
   "metadata": {
    "application/vnd.databricks.v1+cell": {
     "cellMetadata": {
      "byteLimit": 2048000,
      "rowLimit": 10000
     },
     "inputWidgets": {},
     "nuid": "ab8fa58e-8a73-4767-8108-ab05d49c6097",
     "showTitle": false,
     "tableResultSettingsMap": {},
     "title": ""
    }
   },
   "outputs": [
    {
     "name": "stdout",
     "output_type": "stream",
     "text": [
      "/mnt/chargesafe has been unmounted.\n",
      "Out[3]: True"
     ]
    }
   ],
   "source": [
    "%python\n",
    "configs = {\n",
    "    \"fs.azure.account.auth.type\": \"OAuth\",\n",
    "    \"fs.azure.account.oauth.provider.type\": \"org.apache.hadoop.fs.azurebfs.oauth2.ClientCredsTokenProvider\",\n",
    "    \"fs.azure.account.oauth2.client.id\": \"69540130-9121-4441-93db-f1dc4498baa3\",\n",
    "    \"fs.azure.account.oauth2.client.secret\": '',\n",
    "    \"fs.azure.account.oauth2.client.endpoint\": \"https://login.microsoftonline.com/f8ef5927-40a6-4fb5-a1ef-81ff563ee62d/oauth2/token\"\n",
    "}\n",
    "\n",
    "mount_point = \"/mnt/chargesafe\"\n",
    "\n",
    "# Check if the directory is already mounted\n",
    "if any(mount.mountPoint == mount_point for mount in dbutils.fs.mounts()):\n",
    "    dbutils.fs.unmount(mount_point)\n",
    "\n",
    "dbutils.fs.mount(\n",
    "    source=\"abfss://credit-card-data@chargesafedata.dfs.core.windows.net\",  # container@storageacc\n",
    "    mount_point=mount_point,\n",
    "    extra_configs=configs\n",
    ")"
   ]
  },
  {
   "cell_type": "code",
   "execution_count": 0,
   "metadata": {
    "application/vnd.databricks.v1+cell": {
     "cellMetadata": {
      "byteLimit": 2048000,
      "rowLimit": 10000
     },
     "inputWidgets": {},
     "nuid": "f4657c72-f0fa-46cf-9d80-7112bd00a8dc",
     "showTitle": false,
     "tableResultSettingsMap": {},
     "title": ""
    }
   },
   "outputs": [
    {
     "data": {
      "text/html": [
       "<style scoped>\n",
       "  .table-result-container {\n",
       "    max-height: 300px;\n",
       "    overflow: auto;\n",
       "  }\n",
       "  table, th, td {\n",
       "    border: 1px solid black;\n",
       "    border-collapse: collapse;\n",
       "  }\n",
       "  th, td {\n",
       "    padding: 5px;\n",
       "  }\n",
       "  th {\n",
       "    text-align: left;\n",
       "  }\n",
       "</style><div class='table-result-container'><table class='table-result'><thead style='background-color: white'><tr><th>path</th><th>name</th><th>size</th><th>modificationTime</th></tr></thead><tbody><tr><td>dbfs:/mnt/chargesafe/raw-data/</td><td>raw-data/</td><td>0</td><td>1734765234000</td></tr><tr><td>dbfs:/mnt/chargesafe/transformed-data/</td><td>transformed-data/</td><td>0</td><td>1734765250000</td></tr></tbody></table></div>"
      ]
     },
     "metadata": {
      "application/vnd.databricks.v1+output": {
       "addedWidgets": {},
       "aggData": [],
       "aggError": "",
       "aggOverflow": false,
       "aggSchema": [],
       "aggSeriesLimitReached": false,
       "aggType": "",
       "arguments": {},
       "columnCustomDisplayInfos": {},
       "data": [
        [
         "dbfs:/mnt/chargesafe/raw-data/",
         "raw-data/",
         0,
         1734765234000
        ],
        [
         "dbfs:/mnt/chargesafe/transformed-data/",
         "transformed-data/",
         0,
         1734765250000
        ]
       ],
       "datasetInfos": [],
       "dbfsResultPath": null,
       "isJsonSchema": true,
       "metadata": {
        "isDbfsCommandResult": false
       },
       "overflow": false,
       "plotOptions": {
        "customPlotOptions": {},
        "displayType": "table",
        "pivotAggregation": null,
        "pivotColumns": null,
        "xColumns": null,
        "yColumns": null
       },
       "removedWidgets": [],
       "schema": [
        {
         "metadata": "{}",
         "name": "path",
         "type": "\"string\""
        },
        {
         "metadata": "{}",
         "name": "name",
         "type": "\"string\""
        },
        {
         "metadata": "{}",
         "name": "size",
         "type": "\"long\""
        },
        {
         "metadata": "{}",
         "name": "modificationTime",
         "type": "\"long\""
        }
       ],
       "type": "table"
      }
     },
     "output_type": "display_data"
    }
   ],
   "source": [
    "%fs\n",
    "ls \"/mnt/chargesafe\""
   ]
  },
  {
   "cell_type": "code",
   "execution_count": 0,
   "metadata": {
    "application/vnd.databricks.v1+cell": {
     "cellMetadata": {
      "byteLimit": 2048000,
      "rowLimit": 10000
     },
     "inputWidgets": {},
     "nuid": "23c3f01b-fe7c-4f30-997d-e970f9bb0025",
     "showTitle": false,
     "tableResultSettingsMap": {},
     "title": ""
    }
   },
   "outputs": [
    {
     "data": {
      "text/html": [
       "\n",
       "            <div>\n",
       "                <p><b>SparkSession - hive</b></p>\n",
       "                \n",
       "        <div>\n",
       "            <p><b>SparkContext</b></p>\n",
       "\n",
       "            <p><a href=\"/?o=4048581322182945#setting/sparkui/1222-153126-vtsulh5v/driver-1360832605550094178\">Spark UI</a></p>\n",
       "\n",
       "            <dl>\n",
       "              <dt>Version</dt>\n",
       "                <dd><code>v3.3.2</code></dd>\n",
       "              <dt>Master</dt>\n",
       "                <dd><code>local[*, 4]</code></dd>\n",
       "              <dt>AppName</dt>\n",
       "                <dd><code>Databricks Shell</code></dd>\n",
       "            </dl>\n",
       "        </div>\n",
       "        \n",
       "            </div>\n",
       "        "
      ]
     },
     "metadata": {
      "application/vnd.databricks.v1+output": {
       "addedWidgets": {},
       "arguments": {},
       "data": "\n            <div>\n                <p><b>SparkSession - hive</b></p>\n                \n        <div>\n            <p><b>SparkContext</b></p>\n\n            <p><a href=\"/?o=4048581322182945#setting/sparkui/1222-153126-vtsulh5v/driver-1360832605550094178\">Spark UI</a></p>\n\n            <dl>\n              <dt>Version</dt>\n                <dd><code>v3.3.2</code></dd>\n              <dt>Master</dt>\n                <dd><code>local[*, 4]</code></dd>\n              <dt>AppName</dt>\n                <dd><code>Databricks Shell</code></dd>\n            </dl>\n        </div>\n        \n            </div>\n        ",
       "datasetInfos": [],
       "metadata": {},
       "removedWidgets": [],
       "textData": null,
       "type": "htmlSandbox"
      }
     },
     "output_type": "display_data"
    }
   ],
   "source": [
    "spark"
   ]
  },
  {
   "cell_type": "code",
   "execution_count": 0,
   "metadata": {
    "application/vnd.databricks.v1+cell": {
     "cellMetadata": {
      "byteLimit": 2048000,
      "rowLimit": 10000
     },
     "collapsed": true,
     "inputWidgets": {},
     "nuid": "8cc435ec-5399-47fd-95fd-95000a50de3c",
     "showTitle": false,
     "tableResultSettingsMap": {},
     "title": ""
    }
   },
   "outputs": [],
   "source": [
    "data = spark.read.format(\"csv\").option(\"header\", \"true\").load(\"/mnt/chargesafe/raw-data/data.csv\")"
   ]
  },
  {
   "cell_type": "code",
   "execution_count": 0,
   "metadata": {
    "application/vnd.databricks.v1+cell": {
     "cellMetadata": {
      "byteLimit": 2048000,
      "rowLimit": 10000
     },
     "inputWidgets": {},
     "nuid": "39c09be9-8430-4d7b-a04f-7ce14de02d73",
     "showTitle": false,
     "tableResultSettingsMap": {},
     "title": ""
    }
   },
   "outputs": [
    {
     "name": "stdout",
     "output_type": "stream",
     "text": [
      "+-------+---------------------+-----------+--------------------+--------------+-----+------+--------+------+--------------------+----------+-----+-----+-------+--------+--------+--------------------+----------+--------------------+----------+---------+-----------+--------+\n",
      "|sr. no.|trans_date_trans_time|     cc_num|            merchant|      category|  amt| first|    last|gender|              street|      city|state|  zip|    lat|    long|city_pop|                 job|       dob|           trans_num| unix_time|merch_lat| merch_long|is_fraud|\n",
      "+-------+---------------------+-----------+--------------------+--------------+-----+------+--------+------+--------------------+----------+-----+-----+-------+--------+--------+--------------------+----------+--------------------+----------+---------+-----------+--------+\n",
      "|      1|     21-06-2020 12:14|2.29116E+15|fraud_Kirlin and ...| personal_care| 2.86|  Jeff| Elliott|     M|   351 Darlene Green|  Columbia|   SC|29209|33.9659|-80.9355|  333497| Mechanical engineer|19-03-1968|2da90c7d74bd46a0c...|1371816865|33.986391| -81.200714|       0|\n",
      "|      2|     21-06-2020 12:14|3.57303E+15|fraud_Sporer-Keebler| personal_care|29.84|Joanne|Williams|     F|    3638 Marsh Union|   Altonah|   UT|84002|40.3207|-110.436|     302|Sales professiona...|17-01-1990|324cc204407e99f51...|1371816873|39.450498|-109.960431|       0|\n",
      "|      3|     21-06-2020 12:14|3.59822E+15|fraud_Swaniawski,...|health_fitness|41.28|Ashley|   Lopez|     F|9333 Valentine Point|  Bellmore|   NY|11710|40.6729|-73.5365|   34496|   Librarian, public|21-10-1970|c81755dbbbea9d5c7...|1371816893| 40.49581| -74.196111|       0|\n",
      "|      4|     21-06-2020 12:15|3.59192E+15|   fraud_Haley Group|      misc_pos|60.05| Brian|Williams|     M|32941 Krystal Mil...|Titusville|   FL|32780|28.5697|-80.8191|   54767|        Set designer|25-07-1987|2159175b9efe66dc3...|1371816915|28.812398| -80.883061|       0|\n",
      "|      5|     21-06-2020 12:15|3.52683E+15|fraud_Johnston-Ca...|        travel| 3.19|Nathan|  Massey|     M|5783 Evan Roads A...|  Falmouth|   MI|49632|44.2529| -85.017|    1126|  Furniture designer|06-07-1955|57ff021bd3f328f87...|1371816917|44.959148| -85.884734|       0|\n",
      "+-------+---------------------+-----------+--------------------+--------------+-----+------+--------+------+--------------------+----------+-----+-----+-------+--------+--------+--------------------+----------+--------------------+----------+---------+-----------+--------+\n",
      "only showing top 5 rows\n",
      "\n"
     ]
    }
   ],
   "source": [
    "data.show(5)"
   ]
  },
  {
   "cell_type": "code",
   "execution_count": 0,
   "metadata": {
    "application/vnd.databricks.v1+cell": {
     "cellMetadata": {
      "byteLimit": 2048000,
      "rowLimit": 10000
     },
     "inputWidgets": {},
     "nuid": "0e661f84-4bba-46d7-a9e9-93121f267f0f",
     "showTitle": false,
     "tableResultSettingsMap": {},
     "title": ""
    }
   },
   "outputs": [
    {
     "name": "stdout",
     "output_type": "stream",
     "text": [
      "root\n",
      " |-- sr. no.: string (nullable = true)\n",
      " |-- trans_date_trans_time: string (nullable = true)\n",
      " |-- cc_num: string (nullable = true)\n",
      " |-- merchant: string (nullable = true)\n",
      " |-- category: string (nullable = true)\n",
      " |-- amt: string (nullable = true)\n",
      " |-- first: string (nullable = true)\n",
      " |-- last: string (nullable = true)\n",
      " |-- gender: string (nullable = true)\n",
      " |-- street: string (nullable = true)\n",
      " |-- city: string (nullable = true)\n",
      " |-- state: string (nullable = true)\n",
      " |-- zip: string (nullable = true)\n",
      " |-- lat: string (nullable = true)\n",
      " |-- long: string (nullable = true)\n",
      " |-- city_pop: string (nullable = true)\n",
      " |-- job: string (nullable = true)\n",
      " |-- dob: string (nullable = true)\n",
      " |-- trans_num: string (nullable = true)\n",
      " |-- unix_time: string (nullable = true)\n",
      " |-- merch_lat: string (nullable = true)\n",
      " |-- merch_long: string (nullable = true)\n",
      " |-- is_fraud: string (nullable = true)\n",
      "\n"
     ]
    }
   ],
   "source": [
    "data.printSchema()"
   ]
  },
  {
   "cell_type": "code",
   "execution_count": 0,
   "metadata": {
    "application/vnd.databricks.v1+cell": {
     "cellMetadata": {
      "byteLimit": 2048000,
      "rowLimit": 10000
     },
     "inputWidgets": {},
     "nuid": "a4a3abf0-d743-44d3-88b9-2f5874d9d20c",
     "showTitle": false,
     "tableResultSettingsMap": {},
     "title": ""
    }
   },
   "outputs": [],
   "source": [
    "columns_to_drop = [\"unix_time\", \"merch_lat\", \"merch_long\", \"city_pop\", \"zip\", \"lat\", \"long\", \"job\", \"sr. no.\", \"street\", \"cc_num\"]\n",
    "data = data.drop(*columns_to_drop)"
   ]
  },
  {
   "cell_type": "code",
   "execution_count": 0,
   "metadata": {
    "application/vnd.databricks.v1+cell": {
     "cellMetadata": {
      "byteLimit": 2048000,
      "rowLimit": 10000
     },
     "inputWidgets": {},
     "nuid": "301d35c5-c003-436f-a03a-f24b4d8d3722",
     "showTitle": false,
     "tableResultSettingsMap": {},
     "title": ""
    }
   },
   "outputs": [
    {
     "name": "stdout",
     "output_type": "stream",
     "text": [
      "+---------------------+--------------------+--------------+-----+------+--------+------+----------+-----+----------+--------------------+--------+\n",
      "|trans_date_trans_time|            merchant|      category|  amt| first|    last|gender|      city|state|       dob|           trans_num|is_fraud|\n",
      "+---------------------+--------------------+--------------+-----+------+--------+------+----------+-----+----------+--------------------+--------+\n",
      "|     21-06-2020 12:14|fraud_Kirlin and ...| personal_care| 2.86|  Jeff| Elliott|     M|  Columbia|   SC|19-03-1968|2da90c7d74bd46a0c...|       0|\n",
      "|     21-06-2020 12:14|fraud_Sporer-Keebler| personal_care|29.84|Joanne|Williams|     F|   Altonah|   UT|17-01-1990|324cc204407e99f51...|       0|\n",
      "|     21-06-2020 12:14|fraud_Swaniawski,...|health_fitness|41.28|Ashley|   Lopez|     F|  Bellmore|   NY|21-10-1970|c81755dbbbea9d5c7...|       0|\n",
      "|     21-06-2020 12:15|   fraud_Haley Group|      misc_pos|60.05| Brian|Williams|     M|Titusville|   FL|25-07-1987|2159175b9efe66dc3...|       0|\n",
      "|     21-06-2020 12:15|fraud_Johnston-Ca...|        travel| 3.19|Nathan|  Massey|     M|  Falmouth|   MI|06-07-1955|57ff021bd3f328f87...|       0|\n",
      "+---------------------+--------------------+--------------+-----+------+--------+------+----------+-----+----------+--------------------+--------+\n",
      "only showing top 5 rows\n",
      "\n"
     ]
    }
   ],
   "source": [
    "data.show(5)"
   ]
  },
  {
   "cell_type": "code",
   "execution_count": 0,
   "metadata": {
    "application/vnd.databricks.v1+cell": {
     "cellMetadata": {
      "byteLimit": 2048000,
      "rowLimit": 10000
     },
     "inputWidgets": {},
     "nuid": "55070bc7-3d62-4bce-9af5-4c5558a98005",
     "showTitle": false,
     "tableResultSettingsMap": {},
     "title": ""
    }
   },
   "outputs": [
    {
     "name": "stdout",
     "output_type": "stream",
     "text": [
      "root\n",
      " |-- trans_date_trans_time: string (nullable = true)\n",
      " |-- merchant: string (nullable = true)\n",
      " |-- category: string (nullable = true)\n",
      " |-- amt: string (nullable = true)\n",
      " |-- first: string (nullable = true)\n",
      " |-- last: string (nullable = true)\n",
      " |-- gender: string (nullable = true)\n",
      " |-- city: string (nullable = true)\n",
      " |-- state: string (nullable = true)\n",
      " |-- dob: string (nullable = true)\n",
      " |-- trans_num: string (nullable = true)\n",
      " |-- is_fraud: string (nullable = true)\n",
      "\n"
     ]
    }
   ],
   "source": [
    "data.printSchema()"
   ]
  },
  {
   "cell_type": "code",
   "execution_count": 0,
   "metadata": {
    "application/vnd.databricks.v1+cell": {
     "cellMetadata": {
      "byteLimit": 2048000,
      "rowLimit": 10000
     },
     "inputWidgets": {},
     "nuid": "eb6fff6a-fe55-4013-beaf-cb9c7ad68596",
     "showTitle": false,
     "tableResultSettingsMap": {},
     "title": ""
    }
   },
   "outputs": [
    {
     "name": "stdout",
     "output_type": "stream",
     "text": [
      "+---------------------+--------------------+--------------+-----+------+----------+-----+----------+--------------------+--------+---------------+\n",
      "|trans_date_trans_time|            merchant|      category|  amt|gender|      city|state|       dob|           trans_num|is_fraud|       customer|\n",
      "+---------------------+--------------------+--------------+-----+------+----------+-----+----------+--------------------+--------+---------------+\n",
      "|     21-06-2020 12:14|fraud_Kirlin and ...| personal_care| 2.86|     M|  Columbia|   SC|19-03-1968|2da90c7d74bd46a0c...|       0|   Jeff Elliott|\n",
      "|     21-06-2020 12:14|fraud_Sporer-Keebler| personal_care|29.84|     F|   Altonah|   UT|17-01-1990|324cc204407e99f51...|       0|Joanne Williams|\n",
      "|     21-06-2020 12:14|fraud_Swaniawski,...|health_fitness|41.28|     F|  Bellmore|   NY|21-10-1970|c81755dbbbea9d5c7...|       0|   Ashley Lopez|\n",
      "|     21-06-2020 12:15|   fraud_Haley Group|      misc_pos|60.05|     M|Titusville|   FL|25-07-1987|2159175b9efe66dc3...|       0| Brian Williams|\n",
      "|     21-06-2020 12:15|fraud_Johnston-Ca...|        travel| 3.19|     M|  Falmouth|   MI|06-07-1955|57ff021bd3f328f87...|       0|  Nathan Massey|\n",
      "+---------------------+--------------------+--------------+-----+------+----------+-----+----------+--------------------+--------+---------------+\n",
      "only showing top 5 rows\n",
      "\n"
     ]
    }
   ],
   "source": [
    "%python\n",
    "from pyspark.sql.functions import concat, lit\n",
    "\n",
    "data_with_name = data.withColumn(\"customer\", concat(data[\"first\"], lit(\" \"), data[\"last\"]))\n",
    "data = data_with_name.drop(\"first\", \"last\")\n",
    "data.show(5)"
   ]
  },
  {
   "cell_type": "code",
   "execution_count": 0,
   "metadata": {
    "application/vnd.databricks.v1+cell": {
     "cellMetadata": {
      "byteLimit": 2048000,
      "rowLimit": 10000
     },
     "inputWidgets": {},
     "nuid": "1b0097fd-7899-40a2-9544-817e4b272890",
     "showTitle": false,
     "tableResultSettingsMap": {},
     "title": ""
    }
   },
   "outputs": [
    {
     "name": "stdout",
     "output_type": "stream",
     "text": [
      "root\n",
      " |-- trans_date_trans_time: string (nullable = true)\n",
      " |-- merchant: string (nullable = true)\n",
      " |-- category: string (nullable = true)\n",
      " |-- amt: string (nullable = true)\n",
      " |-- gender: string (nullable = true)\n",
      " |-- city: string (nullable = true)\n",
      " |-- state: string (nullable = true)\n",
      " |-- dob: string (nullable = true)\n",
      " |-- trans_num: string (nullable = true)\n",
      " |-- is_fraud: string (nullable = true)\n",
      " |-- customer: string (nullable = true)\n",
      "\n"
     ]
    }
   ],
   "source": [
    "data.printSchema()"
   ]
  },
  {
   "cell_type": "code",
   "execution_count": 0,
   "metadata": {
    "application/vnd.databricks.v1+cell": {
     "cellMetadata": {
      "byteLimit": 2048000,
      "rowLimit": 10000
     },
     "inputWidgets": {},
     "nuid": "bd923d1b-3baf-4384-84fb-b26664e828b8",
     "showTitle": false,
     "tableResultSettingsMap": {},
     "title": ""
    }
   },
   "outputs": [
    {
     "name": "stdout",
     "output_type": "stream",
     "text": [
      "+---------------------+\n",
      "|trans_date_trans_time|\n",
      "+---------------------+\n",
      "|21-06-2020 12:14     |\n",
      "|21-06-2020 12:14     |\n",
      "|21-06-2020 12:14     |\n",
      "|21-06-2020 12:15     |\n",
      "|21-06-2020 12:15     |\n",
      "+---------------------+\n",
      "only showing top 5 rows\n",
      "\n"
     ]
    }
   ],
   "source": [
    "data.select(\"trans_date_trans_time\").show(truncate=False, n=5)"
   ]
  },
  {
   "cell_type": "code",
   "execution_count": 0,
   "metadata": {
    "application/vnd.databricks.v1+cell": {
     "cellMetadata": {
      "byteLimit": 2048000,
      "rowLimit": 10000
     },
     "inputWidgets": {},
     "nuid": "2c963758-2a56-4e5b-9a11-aaa1363ac0b4",
     "showTitle": false,
     "tableResultSettingsMap": {},
     "title": ""
    }
   },
   "outputs": [],
   "source": [
    "from pyspark.sql.functions import to_timestamp, col\n",
    "data = data.withColumn(\"trans_date_trans_time\", to_timestamp(col(\"trans_date_trans_time\"), \"dd-MM-yyyy HH:mm\"))"
   ]
  },
  {
   "cell_type": "code",
   "execution_count": 0,
   "metadata": {
    "application/vnd.databricks.v1+cell": {
     "cellMetadata": {
      "byteLimit": 2048000,
      "rowLimit": 10000
     },
     "inputWidgets": {},
     "nuid": "efae1ce2-dcb9-4656-a6d8-519eee3ba935",
     "showTitle": false,
     "tableResultSettingsMap": {},
     "title": ""
    }
   },
   "outputs": [],
   "source": [
    "from pyspark.sql.types import DoubleType, TimestampType, IntegerType, DateType, StringType\n",
    "datatype_mapping = {\n",
    "    \"trans_date_trans_time\": TimestampType(),\n",
    "    \"amt\": DoubleType(),\n",
    "    \"is_fraud\": IntegerType()\n",
    "}\n",
    "\n",
    "for column, new_type in datatype_mapping.items():\n",
    "    data = data.withColumn(column, data[column].cast(new_type))"
   ]
  },
  {
   "cell_type": "code",
   "execution_count": 0,
   "metadata": {
    "application/vnd.databricks.v1+cell": {
     "cellMetadata": {
      "byteLimit": 2048000,
      "rowLimit": 10000
     },
     "inputWidgets": {},
     "nuid": "7454fb6b-c9de-4eda-9694-07f21eb60064",
     "showTitle": false,
     "tableResultSettingsMap": {},
     "title": ""
    }
   },
   "outputs": [],
   "source": [
    "from pyspark.sql.functions import substring; \n",
    "data = data.withColumn(\"dob\", substring(\"dob\", -4, 4))\n",
    "data = data.withColumn(\"dob\", data[\"dob\"].cast(IntegerType()))"
   ]
  },
  {
   "cell_type": "code",
   "execution_count": 0,
   "metadata": {
    "application/vnd.databricks.v1+cell": {
     "cellMetadata": {
      "byteLimit": 2048000,
      "rowLimit": 10000
     },
     "inputWidgets": {},
     "nuid": "5297fbdc-ebdc-4d2b-86c7-6cf1f8451370",
     "showTitle": false,
     "tableResultSettingsMap": {},
     "title": ""
    }
   },
   "outputs": [],
   "source": [
    "from pyspark.sql.functions import regexp_replace\n",
    "data = data.withColumn(\"merchant\", regexp_replace(\"merchant\", \"^fraud_\", \"\"))"
   ]
  },
  {
   "cell_type": "code",
   "execution_count": 0,
   "metadata": {
    "application/vnd.databricks.v1+cell": {
     "cellMetadata": {
      "byteLimit": 2048000,
      "rowLimit": 10000
     },
     "inputWidgets": {},
     "nuid": "7196412d-8ec9-48f4-a87c-d456f0c7b0e2",
     "showTitle": false,
     "tableResultSettingsMap": {},
     "title": ""
    }
   },
   "outputs": [],
   "source": [
    "data = data.withColumnRenamed(\"amt\", \"amount in $\")"
   ]
  },
  {
   "cell_type": "code",
   "execution_count": 0,
   "metadata": {
    "application/vnd.databricks.v1+cell": {
     "cellMetadata": {
      "byteLimit": 2048000,
      "rowLimit": 10000
     },
     "inputWidgets": {},
     "nuid": "c5592978-18cc-47bd-872f-78c640013812",
     "showTitle": false,
     "tableResultSettingsMap": {},
     "title": ""
    }
   },
   "outputs": [],
   "source": [
    "new_column_order = [\"trans_num\", \"trans_date_trans_time\", \"amount in $\", \"category\", \"merchant\", \"customer\", \"gender\", \"city\", \"state\", \"dob\", \"is_fraud\"]\n",
    "data = data.select(new_column_order)"
   ]
  },
  {
   "cell_type": "code",
   "execution_count": 0,
   "metadata": {
    "application/vnd.databricks.v1+cell": {
     "cellMetadata": {
      "byteLimit": 2048000,
      "rowLimit": 10000
     },
     "inputWidgets": {},
     "nuid": "60f9a820-dbfb-48c6-9d06-afd028aeab38",
     "showTitle": false,
     "tableResultSettingsMap": {},
     "title": ""
    }
   },
   "outputs": [
    {
     "name": "stdout",
     "output_type": "stream",
     "text": [
      "+--------------------+---------------------+-----------+--------------+--------------------+---------------+------+----------+-----+----+--------+\n",
      "|           trans_num|trans_date_trans_time|amount in $|      category|            merchant|       customer|gender|      city|state| dob|is_fraud|\n",
      "+--------------------+---------------------+-----------+--------------+--------------------+---------------+------+----------+-----+----+--------+\n",
      "|2da90c7d74bd46a0c...|  2020-06-21 12:14:00|       2.86| personal_care|     Kirlin and Sons|   Jeff Elliott|     M|  Columbia|   SC|1968|       0|\n",
      "|324cc204407e99f51...|  2020-06-21 12:14:00|      29.84| personal_care|      Sporer-Keebler|Joanne Williams|     F|   Altonah|   UT|1990|       0|\n",
      "|c81755dbbbea9d5c7...|  2020-06-21 12:14:00|      41.28|health_fitness|Swaniawski, Nitzs...|   Ashley Lopez|     F|  Bellmore|   NY|1970|       0|\n",
      "|2159175b9efe66dc3...|  2020-06-21 12:15:00|      60.05|      misc_pos|         Haley Group| Brian Williams|     M|Titusville|   FL|1987|       0|\n",
      "|57ff021bd3f328f87...|  2020-06-21 12:15:00|       3.19|        travel|     Johnston-Casper|  Nathan Massey|     M|  Falmouth|   MI|1955|       0|\n",
      "+--------------------+---------------------+-----------+--------------+--------------------+---------------+------+----------+-----+----+--------+\n",
      "only showing top 5 rows\n",
      "\n"
     ]
    }
   ],
   "source": [
    "data.show(5)"
   ]
  },
  {
   "cell_type": "code",
   "execution_count": 0,
   "metadata": {
    "application/vnd.databricks.v1+cell": {
     "cellMetadata": {
      "byteLimit": 2048000,
      "rowLimit": 10000
     },
     "inputWidgets": {},
     "nuid": "1589260e-2390-457e-98d0-bcddbf7fe739",
     "showTitle": false,
     "tableResultSettingsMap": {},
     "title": ""
    }
   },
   "outputs": [
    {
     "name": "stdout",
     "output_type": "stream",
     "text": [
      "root\n",
      " |-- trans_num: string (nullable = true)\n",
      " |-- trans_date_trans_time: timestamp (nullable = true)\n",
      " |-- amount in $: double (nullable = true)\n",
      " |-- category: string (nullable = true)\n",
      " |-- merchant: string (nullable = true)\n",
      " |-- customer: string (nullable = true)\n",
      " |-- gender: string (nullable = true)\n",
      " |-- city: string (nullable = true)\n",
      " |-- state: string (nullable = true)\n",
      " |-- dob: integer (nullable = true)\n",
      " |-- is_fraud: integer (nullable = true)\n",
      "\n"
     ]
    }
   ],
   "source": [
    "data.printSchema()"
   ]
  },
  {
   "cell_type": "code",
   "execution_count": 0,
   "metadata": {
    "application/vnd.databricks.v1+cell": {
     "cellMetadata": {
      "byteLimit": 2048000,
      "rowLimit": 10000
     },
     "inputWidgets": {},
     "nuid": "e21acc6b-d5e4-40a0-9cfc-f029c10c3cea",
     "showTitle": false,
     "tableResultSettingsMap": {},
     "title": ""
    }
   },
   "outputs": [],
   "source": [
    "data.write.option(\"header\", \"true\").csv(\"/mnt/chargesafe/transformed-data/data\")"
   ]
  }
 ],
 "metadata": {
  "application/vnd.databricks.v1+notebook": {
   "computePreferences": null,
   "dashboards": [],
   "environmentMetadata": {
    "base_environment": "",
    "client": "1"
   },
   "language": "python",
   "notebookMetadata": {
    "mostRecentlyExecutedCommandWithImplicitDF": {
     "commandId": 3434180293203639,
     "dataframes": [
      "_sqldf"
     ]
    },
    "pythonIndentUnit": 4
   },
   "notebookName": "ChargeSafe Transformation",
   "widgets": {}
  },
  "language_info": {
   "name": "python"
  }
 },
 "nbformat": 4,
 "nbformat_minor": 0
}
